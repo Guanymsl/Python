{
 "cells": [
  {
   "cell_type": "markdown",
   "metadata": {},
   "source": [
    "# Algorithm Analysis and Big-Oh Notations\n",
    "\n",
    "<!-- ## 2.1. Objectives -->\n",
    "## Objectives\n",
    "* To understand why algorithm analysis is important.\n",
    "* To be able to use “Big-O” to describe execution time.\n",
    "* To understand the “Big-O” execution time of common operations on Python lists and dictionaries.\n",
    "* To understand how the implementation of Python data impacts algorithm analysis.\n",
    "* To understand how to benchmark simple Python programs.\n",
    "\n",
    "\n",
    "<!-- ## 2.2. What Is Algorithm Analysis? -->\n",
    "## What Is Algorithm Analysis?\n",
    "**Algorithm analysis**: Compare algorithms based upon the amount of computing resources that each algorithm uses.\n",
    "* The amount of space or memory an algorithm requires.\n",
    "* The amount of time an algorithm requires to execute, a.k.a., “execution time” or “running time”.\n",
    "\n",
    "Use `time` function to return the current system clock time (in seconds). The execution time is the difference between the starting time and ending time of an algorithm."
   ]
  },
  {
   "cell_type": "code",
   "execution_count": 1,
   "metadata": {
    "collapsed": false
   },
   "outputs": [],
   "source": [
    "import time\n",
    "def sumOfN(n):\n",
    "    start = time.time()\n",
    "    theSum = 0\n",
    "    for i in range(1,n+1):\n",
    "        theSum = theSum + i\n",
    "    end = time.time()\n",
    "    return theSum,end-start"
   ]
  },
  {
   "cell_type": "code",
   "execution_count": 2,
   "metadata": {
    "collapsed": false
   },
   "outputs": [
    {
     "name": "stdout",
     "output_type": "stream",
     "text": [
      "Sum is        50005000 required  0.0040014 seconds\n",
      "Sum is       450015000 required  0.0130088 seconds\n",
      "Sum is      5000050000 required  0.0465317 seconds\n",
      "Sum is     45000150000 required  0.1841285 seconds\n",
      "Sum is    500000500000 required  0.3662570 seconds\n"
     ]
    }
   ],
   "source": [
    "print(\"Sum is %15d required %10.7f seconds\"%sumOfN(10000))\n",
    "print(\"Sum is %15d required %10.7f seconds\"%sumOfN(30000))\n",
    "print(\"Sum is %15d required %10.7f seconds\"%sumOfN(100000))\n",
    "print(\"Sum is %15d required %10.7f seconds\"%sumOfN(300000))\n",
    "print(\"Sum is %15d required %10.7f seconds\"%sumOfN(1000000))"
   ]
  },
  {
   "cell_type": "markdown",
   "metadata": {},
   "source": [
    "The execution time of `sumOfN` grows linearly with the number of integers being added."
   ]
  },
  {
   "cell_type": "code",
   "execution_count": 3,
   "metadata": {
    "collapsed": false
   },
   "outputs": [],
   "source": [
    "import time\n",
    "\n",
    "def sumOfN2(n):\n",
    "    start = time.time()\n",
    "    theSum = (n*(n+1))/2\n",
    "    end = time.time()\n",
    "    return theSum,end-start"
   ]
  },
  {
   "cell_type": "code",
   "execution_count": 4,
   "metadata": {
    "collapsed": false
   },
   "outputs": [
    {
     "name": "stdout",
     "output_type": "stream",
     "text": [
      "Sum is        50005000 required  0.0000000 seconds\n",
      "Sum is       450015000 required  0.0000000 seconds\n",
      "Sum is      5000050000 required  0.0000000 seconds\n",
      "Sum is     45000150000 required  0.0000000 seconds\n",
      "Sum is    500000500000 required  0.0000000 seconds\n"
     ]
    }
   ],
   "source": [
    "print(\"Sum is %15d required %10.7f seconds\"%sumOfN2(10000))\n",
    "print(\"Sum is %15d required %10.7f seconds\"%sumOfN2(30000))\n",
    "print(\"Sum is %15d required %10.7f seconds\"%sumOfN2(100000))\n",
    "print(\"Sum is %15d required %10.7f seconds\"%sumOfN2(300000))\n",
    "print(\"Sum is %15d required %10.7f seconds\"%sumOfN2(1000000))"
   ]
  },
  {
   "cell_type": "markdown",
   "metadata": {},
   "source": [
    "The execution time of `sumOfN2` is much shorter than `sumOfN`. The execution time is too short and beyond the precision of the `time` function. Function `sumOfN3` illustrates how to more accurately measure functions with very short execution time."
   ]
  },
  {
   "cell_type": "code",
   "execution_count": 5,
   "metadata": {
    "collapsed": false
   },
   "outputs": [
    {
     "name": "stdout",
     "output_type": "stream",
     "text": [
      "Sum is        50005000 required  0.0000025 seconds\n",
      "Sum is       450015000 required  0.0000025 seconds\n",
      "Sum is      5000050000 required  0.0000035 seconds\n",
      "Sum is     45000150000 required  0.0000025 seconds\n",
      "Sum is    500000500000 required  0.0000025 seconds\n"
     ]
    }
   ],
   "source": [
    "import time\n",
    "\n",
    "def sumOfN3(n):\n",
    "    start = time.time()\n",
    "    for k in range(1,1001):\n",
    "        theSum,_ = sumOfN2(n)\n",
    "    end = time.time()\n",
    "    return theSum, (end-start)/1000\n",
    "\n",
    "print(\"Sum is %15d required %10.7f seconds\"%sumOfN3(10000))\n",
    "print(\"Sum is %15d required %10.7f seconds\"%sumOfN3(30000))\n",
    "print(\"Sum is %15d required %10.7f seconds\"%sumOfN3(100000))\n",
    "print(\"Sum is %15d required %10.7f seconds\"%sumOfN3(300000))\n",
    "print(\"Sum is %15d required %10.7f seconds\"%sumOfN3(1000000))"
   ]
  },
  {
   "cell_type": "markdown",
   "metadata": {},
   "source": [
    "We observe that the execution time of `sumOfN2` is hardly impacted by the number of integers being added.\n",
    "\n",
    "We may also perform cross-platform timing measurements with the `timeit` module, which runs functions in a consistent environment and uses timing mechanisms that are as similar as possible across operating systems."
   ]
  },
  {
   "cell_type": "code",
   "execution_count": 17,
   "metadata": {
    "collapsed": false
   },
   "outputs": [
    {
     "name": "stdout",
     "output_type": "stream",
     "text": [
      "0.0022686351386482784 milliseconds\n",
      "0.003299033163330023 milliseconds\n",
      "0.002820673354676728 milliseconds\n",
      "0.003286203589937031 milliseconds\n",
      "0.002545753924323435 milliseconds\n"
     ]
    }
   ],
   "source": [
    "import timeit\n",
    "\n",
    "print(timeit.timeit('sumOfN2(10000)', setup=\"from __main__ import sumOfN2\", number=1000), \"milliseconds\")\n",
    "print(timeit.timeit('sumOfN2(30000)', setup=\"from __main__ import sumOfN2\", number=1000), \"milliseconds\")\n",
    "print(timeit.timeit('sumOfN2(100000)', setup=\"from __main__ import sumOfN2\", number=1000), \"milliseconds\")\n",
    "print(timeit.timeit('sumOfN2(300000)', setup=\"from __main__ import sumOfN2\", number=1000), \"milliseconds\")\n",
    "print(timeit.timeit('sumOfN2(1000000)', setup=\"from __main__ import sumOfN2\", number=1000), \"milliseconds\")"
   ]
  },
  {
   "cell_type": "markdown",
   "metadata": {},
   "source": [
    "Here `from __main__ import sumOfN2` imports the function `sumOfN2` from the `__main__` namespace into the namespace that `timeit` sets up for the timing experiment. By doing this, the `timeit` module can run the timing tests in an environment that is uncluttered by any stray variables irrelevent to the experiment, that may interfere with your function’s performance in some unforeseen way.\n",
    "\n",
    "Disclaimer: The time measured includes function calling overhead.\n",
    "\n",
    "<!-- ## 2.3. Big-O Notation -->\n",
    "## Big-O Notation\n",
    "\n",
    "The actual execution time is dependent on the particular machine, program, time of day, compiler, and programming language. To compare algorithms across implementations, we need a measure which is independent of the program or computer being used.\n",
    "\n",
    "If we consider each step or operation in the algorithm as a basic unit of computation, then the execution time can be expressed as the number of steps required to solve the problem. A basic unit of computation could be any operation that takes a fixed amount of time to compute. For instance, in the summation algorithm each assignment can be considered a basic unit of computation. The number of assignments in `sumOfN(n)`, where n is often referred to as the *size of the problem*, is $T(n)=n+1$. We can read this as “T(n)=n+1 is the time it takes to solve a problem of size n.”\n",
    "\n",
    "```python\n",
    "import time\n",
    "def sumOfN(n):\n",
    "    start = time.time()\n",
    "    theSum = 0                 # 1 assignment\n",
    "    for i in range(1,n+1):\n",
    "        theSum = theSum + i    # n assignments\n",
    "    end = time.time()\n",
    "    return theSum,end-start\n",
    "```\n",
    "\n",
    "What we care most is *how the algorithm’s execution time changes with respect to the size of the problem*. Computer scientists are more interested in the most dominant part of the T(n) as the problem gets larger.\n",
    "\n",
    "The **order of magnitude** function describes the part of T(n) that increases the fastest as the value of n grows large. Here are some common order of magnitude functions:\n",
    "\n",
    "  $\\phi(n)$    |   Name\n",
    "-------------- | -------------\n",
    "$1$            | Constant\n",
    "$log~n$        | Logarithmic\n",
    "$n$            | Linear\n",
    "$n~log~n$      | Log Linear\n",
    "$n^2$          | Quadratic\n",
    "$n^3$          | Cubic\n",
    "$2^n$          | Exponential\n",
    "\n",
    "<img src=\"figures/order_magnitude_comparison.jpg\">\n",
    "\n",
    "## Formal Definition of Big-Oh Notation\n",
    "\n",
    "Order of magnitude is often described by **Big-O** notation O(f(n)), which provides a simple approximation to the actual number of steps in the computation T(n).\n",
    "\n",
    "Let $T(n)$ be some real function, $\\phi(n)$ be some positive function. We say\n",
    "* $T(n) \\in O(\\phi(n))$, if there are positive constants $c$ and $n_0$ such that $|T(n)| \\leq c \\phi(n)$ when $n \\geq n_0$. In other words,\n",
    "$$\\lim_{n \\rightarrow \\infty} \\sup_{m \\geq n} \\frac{|T(m)|}{\\phi(m)} < \\infty$$\n",
    "We say that $\\phi(n)$ is an **asymptotic upper bound** for $T(n)$.\n",
    "* $T(n) \\in \\Omega(\\phi(n))$, if there are positive constants $c$ and $n_0$ such that $|T(n)| \\geq c \\phi(n)$ when $n \\geq n_0$. In other words,\n",
    "$$\\lim_{n \\rightarrow \\infty} \\inf_{m \\geq n} \\frac{|T(m)|}{\\phi(m)} > 0$$\n",
    "We say that $\\phi(n)$ is an **asymptotic lower bound** for $T(n)$.\n",
    "* $T(n) \\in \\Theta(\\phi(n))$, if and only if $T(n) \\in O(\\phi(n))$ and $T(n) \\in \\Omega(\\phi(n))$. In other words,\n",
    "$$0 < \\lim_{n \\rightarrow \\infty} \\inf_{m \\geq n} \\frac{|T(m)|}{\\phi(m)} \\leq \\lim_{n \\rightarrow \\infty} \\sup_{m \\geq n} \\frac{|T(m)|}{\\phi(m)} < \\infty$$\n",
    "We say that $T(n)$ is growing at the same rate as $\\phi(n)$.\n",
    "* $T(n) \\in o(\\phi(n))$, if for all constants $c > 0$ there exists an $n_0$ such that $|T(n)| < c \\phi(n)$ when $n \\geq n_0$. In other words,\n",
    "$$\\lim_{n \\rightarrow \\infty} \\sup_{m \\geq n} \\frac{|T(m)|}{\\phi(m)} = 0$$\n",
    "* $T(n) \\in \\omega(\\phi(n))$, if for all constants $c > 0$ there exists an $n_0$ such that $|T(n)| > c \\phi(n)$ when $n \\geq n_0$. In other words,\n",
    "$$\\lim_{n \\rightarrow \\infty} \\inf_{m \\geq n} \\frac{|T(m)|}{\\phi(m)} = \\infty$$\n",
    "\n",
    "---\n",
    "**Proof of iff conditions**\n",
    "* Prove that\n",
    "$$T(n) \\in O(\\phi(n)) \\Leftrightarrow \\lim_{n \\rightarrow \\infty} \\sup_{m \\geq n} \\frac{|T(m)|}{\\phi(m)} < \\infty$$\n",
    "  __*Proof:*__\n",
    "  + Suppose $T(n) \\in O(\\phi(n))$. Then there exists $c > 0, n_0 > 0$ such that $|T(m)| \\leq c\\phi(m), ~~ \\forall m \\geq n_0$.     In other words,\n",
    "    $$\\sup_{m \\geq n_0} \\frac{|T(m)|}{\\phi(m)} \\leq c$$\n",
    "    Since $\\sup_{m \\geq n} \\frac{|T(m)|}{\\phi(m)}$ is a monotonically decreasing function of $n$, therefore\n",
    "    $$\\lim_{n \\rightarrow \\infty} \\sup_{m \\geq n} \\frac{|T(m)|}{\\phi(m)} \\leq \\sup_{m \\geq n_0} \\frac{|T(m)|}{\\phi(m)} \\leq c < \\infty$$\n",
    "  + Suppose $\\lim_{n \\rightarrow \\infty} \\sup_{m \\geq n} \\frac{|T(m)|}{\\phi(m)} = c' < \\infty$. Then there exists $c > c'$, $n_0 > 0$ such that\n",
    "    $$\\sup_{m \\geq n} \\frac{|T(m)|}{\\phi(m)} < c, \\forall n \\geq n_0$$\n",
    "    In particular $\\sup_{m \\geq n_0} \\frac{|T(m)|}{\\phi(m)} < c$, that is,\n",
    "    $$\\frac{|T(m)|}{\\phi(m)} < c, \\forall m \\geq n_0$$\n",
    "    Hence $T(n) \\in O(\\phi(n))$.\n",
    "    \n",
    "* Prove that\n",
    "$$T(n) \\in \\Omega(\\phi(n)) \\Leftrightarrow \\lim_{n \\rightarrow \\infty} \\inf_{m \\geq n} \\frac{|T(m)|}{\\phi(m)} > 0$$\n",
    "  __*Proof:*__\n",
    "  + Suppose $T(n) \\in \\Omega(\\phi(n))$. Then there exists $c > 0, n_0 > 0$ such that $|T(m)| \\geq c\\phi(m), ~~ \\forall m \\geq n_0$. In other words,\n",
    "    $$\\inf_{m \\geq n_0} \\frac{|T(m)|}{\\phi(m)} \\geq c$$\n",
    "    Since $\\inf_{m \\geq n} \\frac{|T(m)|}{\\phi(m)}$ is a monotonically increasing function of $n$, therefore\n",
    "    $$\\lim_{n \\rightarrow \\infty} \\inf_{m \\geq n} \\frac{|T(m)|}{\\phi(m)} \\geq \\inf_{m \\geq n_0} \\frac{|T(m)|}{\\phi(m)} \\geq c > 0$$\n",
    "  + Suppose $\\lim_{n \\rightarrow \\infty} \\inf_{m \\geq n} \\frac{|T(m)|}{\\phi(m)} = c' > 0$. Then there exists $0 < c < c'$ and $n_0 > 0$ such that $\\inf_{m \\geq n_0} \\frac{|T(m)|}{\\phi(m)} > c$. In other words, \n",
    "  $$\\frac{|T(m)|}{\\phi(m)} > c, \\forall m \\geq n_0$$\n",
    "  Hence $T(n) \\in \\Omega(\\phi(n))$.\n",
    "    \n",
    "---\n",
    "\n",
    "---\n",
    "**NOTE**\n",
    "\n",
    "If $\\lim_{n \\rightarrow \\infty} \\frac{|T(n)|}{\\phi(n)}$ exists, then\n",
    "$$\\lim_{n \\rightarrow \\infty} \\inf_{m \\geq n} \\frac{|T(m)|}{\\phi(m)} = \\lim_{n \\rightarrow \\infty} \\frac{|T(n)|}{\\phi(n)} = \\lim_{n \\rightarrow \\infty} \\sup_{m \\geq n} \\frac{|T(m)|}{\\phi(m)}$$\n",
    "Therefore\n",
    "\n",
    "$$T(n) \\in O(\\phi(n)) \\Leftrightarrow \\lim_{n \\rightarrow \\infty} \\frac{|T(n)|}{\\phi(n)} < \\infty$$\n",
    "$$T(n) \\in \\Omega(\\phi(n)) \\Leftrightarrow \\lim_{n \\rightarrow \\infty} \\frac{|T(n)|}{\\phi(n)} > 0$$\n",
    "$$T(n) \\in \\Theta(\\phi(n)) \\Leftrightarrow 0 < \\lim_{n \\rightarrow \\infty} \\frac{|T(n)|}{\\phi(n)} < \\infty$$\n",
    "$$T(n) \\in o(\\phi(n)) \\Leftrightarrow \\lim_{n \\rightarrow \\infty} \\frac{|T(n)|}{\\phi(n)} = 0$$\n",
    "$$T(n) \\in \\omega(\\phi(n)) \\Leftrightarrow \\lim_{n \\rightarrow \\infty} \\frac{|T(n)|}{\\phi(n)} = \\infty$$\n",
    "\n",
    "---\n",
    "\n",
    "## Properties of Big-Oh Notation\n",
    "\n",
    "* Constant factors can be ignored.\n",
    "  + $kT(n) \\in O(T(n)), \\forall k > 0$\n",
    "* Higher power grows faster\n",
    "  + $n^r \\in O(n^s), \\forall r \\leq s$\n",
    "* Fastest growing term dominates a sum\n",
    "  + $f(n) \\in O(g(n)) \\Rightarrow f(n) + g(n) \\in O(g(n))$\n",
    "  + Ex. $5n^2+27n+1005 \\in O(n^2)$\n",
    "* Polynomial's growth is determined by leading term.\n",
    "  + If $f(n)$ is a polynomial of degree $d$, then $f(n) \\in O(n^d)$.\n",
    "* Transitivity\n",
    "  + If $f(n) \\in O(g(n))$ and $g(n) \\in O(h(n))$, then $f(n) \\in O(h(n))$\n",
    "* Product of asymptotic upper bounds is asymptotic upper bounds for products\n",
    "  + If $f_1(n) \\in O(g_1(n))$ and $f_2(n) \\in O(g_2(n))$, then $f_1(n)f_2(n) \\in O(g_1(n)g_2(n))$.\n",
    "* Exponential functions grow faster than powers\n",
    "  + $n^k \\in O(b^n), \\forall b > 1$ and $k > 0$.\n",
    "  + Ex. $n^{100} \\in O(1.01^n)$\n",
    "* Logarithmic grows slower than powers\n",
    "  + $\\log_b n \\in O(n^k), \\forall b > 1$ and $k > 0$.\n",
    "  + Ex. $\\log_2 n \\in O(n^{1/3})$.\n",
    "* All logarithms grow at the same rate\n",
    "  + $\\log_b n \\in \\Theta(\\log_d n), \\forall b,d > 1$.\n",
    "* Sum of the first $n$ $r$'th power grows as the $(r+1)$'th power\n",
    "  + $\\sum_{k=1}^n k^r \\in \\Theta(n^{r+1})$\n",
    "  + Ex. $\\sum_{k=1}^n k = \\frac{n(n+1)}{2} \\in \\Theta(n^2)$.\n",
    "\n",
    "The performance of an algorithm may also depend on the exact values of the data, specified by the **best case**, **worst case**, and **average case** performance.\n",
    "\n",
    "## Analyzing an Algorithm\n",
    "\n",
    "* Simple statement sequence\n",
    "```python\n",
    "    Statement_1  # O(1)\n",
    "    Statement_2  # O(1)\n",
    "    ...\n",
    "    Statement_k  # O(1)\n",
    "```\n",
    "  + Time complexity is $O(1)$ as long as $k$ is constant\n",
    "  \n",
    "* Simple loops\n",
    "```python\n",
    "    for i in range(n):\n",
    "        Statement  # O(1)\n",
    "```\n",
    "  + Time complexity is $O(n)$\n",
    "  \n",
    "* Nested loops\n",
    "```python\n",
    "    for i in range(n):\n",
    "        for j in range(n):\n",
    "            Statement  # O(1)\n",
    "```\n",
    "  + Time complexity is $O(n^2)$\n",
    "  \n",
    "* Loop index does't vary linearily\n",
    "```python\n",
    "    while h <= n:\n",
    "        h = h*2\n",
    "```\n",
    "  + h = 1,2,4,8,... until exceeding n\n",
    "  + Time complexity is $O(\\log_2 n)$\n",
    "\n",
    "* Loop index depends on outer loop index\n",
    "```python\n",
    "    for i in range(n):\n",
    "        for j in range(i):\n",
    "            Statement  # O(1)\n",
    "```\n",
    "  + Inner loop executed $1+2+...+n = \\frac{n(n+1)}{2}$ times\n",
    "  + Time complexity $O(n^2)$\n",
    "\n",
    "Let's analyze the time complexity for the following algorithms:\n",
    "\n",
    "Example 1:\n",
    "```python\n",
    "def myFunc(n):\n",
    "    x = 0\n",
    "    y = 0\n",
    "    z = 0\n",
    "    u = 0\n",
    "    v = 0\n",
    "    w = 0\n",
    "    for i in range(n):\n",
    "        for j in range(n):\n",
    "            x = x + i * i\n",
    "            y = y + i * j\n",
    "            z = z + j * j\n",
    "    for k in range(n):\n",
    "        u = w + (5*k + 45)\n",
    "        v = v + k*k*k\n",
    "    w = u+v\n",
    "    return w\n",
    "```\n",
    "Example 2:\n",
    "```python\n",
    "def maxSubSum(myArray):\n",
    "    maxSum = 0\n",
    "    idx_start = -1\n",
    "    idx_end = -1\n",
    "    for i in range(0, len(myArray)):\n",
    "        for j in range(i, len(myArray)):\n",
    "            thisSum = 0\n",
    "            for k in range(i,j+1):\n",
    "                thisSum = thisSum + myArray[k]\n",
    "            if thisSum > maxSum:\n",
    "                maxSum = thisSum\n",
    "                idx_start = i\n",
    "                idx_end = j\n",
    "    return maxSum,idx_start,idx_end\n",
    "```"
   ]
  },
  {
   "cell_type": "markdown",
   "metadata": {
    "collapsed": true
   },
   "source": [
    "<!-- ## 2.6 Python Built-in List Operation Time Complexity -->\n",
    "## Python Built-in List Operation Time Complexity\n",
    "\n",
    "Let’s look at four different ways to generate a list of $n$ numbers starting with 0."
   ]
  },
  {
   "cell_type": "code",
   "execution_count": 6,
   "metadata": {
    "collapsed": true
   },
   "outputs": [],
   "source": [
    "def test1():   # concat\n",
    "    l = []\n",
    "    for i in range(1000):\n",
    "        l = l + [i]\n",
    "\n",
    "def test2():   # append\n",
    "    l = []\n",
    "    for i in range(1000):\n",
    "        l.append(i)\n",
    "\n",
    "def test3():   # comprehension\n",
    "    l = [i for i in range(1000)]\n",
    "\n",
    "def test4():   # list range\n",
    "    l = list(range(1000))"
   ]
  },
  {
   "cell_type": "code",
   "execution_count": 7,
   "metadata": {
    "collapsed": false
   },
   "outputs": [
    {
     "name": "stdout",
     "output_type": "stream",
     "text": [
      "concat         7.144134025788175 milliseconds\n",
      "append         0.609942846083241 milliseconds\n",
      "comprehension  0.16922390611391513 milliseconds\n",
      "list range     0.06270508989498857 milliseconds\n"
     ]
    }
   ],
   "source": [
    "import timeit\n",
    "print(\"concat        \",timeit.timeit('test1()', setup=\"from __main__ import test1\", number=1000), \"milliseconds\")\n",
    "print(\"append        \",timeit.timeit('test2()', setup=\"from __main__ import test2\", number=1000), \"milliseconds\")\n",
    "print(\"comprehension \",timeit.timeit('test3()', setup=\"from __main__ import test3\", number=1000), \"milliseconds\")\n",
    "print(\"list range    \",timeit.timeit('test4()', setup=\"from __main__ import test4\", number=1000), \"milliseconds\")"
   ]
  },
  {
   "cell_type": "markdown",
   "metadata": {},
   "source": [
    "Actual implementation of Python built-in `list` (See *listobject.h*):\n",
    "\n",
    "```C++\n",
    "typedef struct {\n",
    "    PyObject_VAR_HEAD\n",
    "    /* Vector of pointers to list elements.  list[0] is ob_item[0], etc. */\n",
    "    PyObject **ob_item;\n",
    "\n",
    "    /* ob_item contains space for 'allocated' elements.  The number\n",
    "     * currently in use is ob_size.\n",
    "     * Invariants:\n",
    "     *     0 <= ob_size <= allocated\n",
    "     *     len(list) == ob_size\n",
    "     *     ob_item == NULL implies ob_size == allocated == 0\n",
    "     * list.sort() temporarily sets allocated to -1 to detect mutations.\n",
    "     *\n",
    "     * Items must normally not be NULL, except during construction when\n",
    "     * the list is not yet visible outside the function that builds it.\n",
    "     */\n",
    "    Py_ssize_t allocated;\n",
    "} PyListObject;\n",
    "```\n",
    "\n",
    "<img src=\"figures/python_list_implementation.jpg\">\n",
    "\n",
    "In Python’s implementation, when an item is taken from the front of the list, all the other elements in the list are shifted one position closer to the beginning. For instance, what `pop(2)` does is as follows:\n",
    "\n",
    "<img src=\"figures/python_list_pop.jpg\">\n",
    "\n",
    "Though it causes $O(n)$ time for pop operation, this allows the index operation to be $O(1)$. This is a tradeoff that the Python implementors makes based on how people most commonly use the list data structure. The implementation is optimized so that the most common operations were very fast, sometimes by sacrificing the performance of less common operations.\n",
    "\n",
    "\n",
    "Operation        |  Big-O Efficiency\n",
    "---------------- | -----------------\n",
    "index []         | O(1)\n",
    "index assignment | O(1)\n",
    "append           | O(1)\n",
    "pop()            | O(1)\n",
    "pop(i)           | O(n)\n",
    "insert(i,item)   | O(n)\n",
    "del operator     | O(n)\n",
    "iteration        | O(n)\n",
    "contains (in)    | O(n)\n",
    "get slice [x:y]  | O(k)\n",
    "del slice        | O(n)\n",
    "reverse          | O(n)\n",
    "concatenate      | O(k)\n",
    "sort             | O(n log n)\n",
    "multiply         | O(nk)\n",
    "\n",
    "<!-- set slice        | (n+k) -->\n"
   ]
  },
  {
   "cell_type": "code",
   "execution_count": 5,
   "metadata": {
    "collapsed": false
   },
   "outputs": [
    {
     "name": "stdout",
     "output_type": "stream",
     "text": [
      "[1, 2, 4, 5]\n",
      "[1, 2, 4, 5]\n"
     ]
    }
   ],
   "source": [
    "kkk = [1,2,3,4,5]\n",
    "del kkk[2]\n",
    "print(kkk)\n",
    "lll = [1,2,3,4,5]\n",
    "lll.pop(2)\n",
    "print(lll)"
   ]
  },
  {
   "cell_type": "code",
   "execution_count": 2,
   "metadata": {
    "collapsed": false
   },
   "outputs": [
    {
     "name": "stdout",
     "output_type": "stream",
     "text": [
      "     size          pop(0)           pop()\n",
      "   100000         0.17414,         0.00040\n",
      "   200000         0.36696,         0.00038\n",
      "   300000         0.54824,         0.00038\n",
      "   400000         0.68556,         0.00038\n",
      "   500000         1.04626,         0.00038\n",
      "   600000         1.02291,         0.00030\n",
      "   700000         1.02855,         0.00046\n",
      "   800000         1.42780,         0.00066\n",
      "   900000         1.83894,         0.00048\n",
      "  1000000         1.84325,         0.00051\n",
      "  1100000         2.18859,         0.00105\n",
      "  1200000         2.34811,         0.00059\n",
      "  1300000         2.40974,         0.00093\n",
      "  1400000         2.69736,         0.00085\n",
      "  1500000         2.76940,         0.00053\n",
      "  1600000         2.62196,         0.00070\n",
      "  1700000         3.16054,         0.00079\n",
      "  1800000         3.28467,         0.00039\n",
      "  1900000         3.87140,         0.00039\n",
      "  2000000         3.97710,         0.00080\n",
      "  2100000         4.11023,         0.00060\n",
      "  2200000         4.40597,         0.00072\n",
      "  2300000         4.25577,         0.00022\n",
      "  2400000         3.59011,         0.00046\n",
      "  2500000         4.38253,         0.00038\n",
      "  2600000         4.40032,         0.00092\n",
      "  2700000         4.05832,         0.00038\n",
      "  2800000         4.32702,         0.00043\n",
      "  2900000         5.51710,         0.00060\n",
      "  3000000         4.84168,         0.00086\n",
      "  3100000         5.74658,         0.00053\n",
      "  3200000         5.51558,         0.00050\n",
      "  3300000         5.15474,         0.00053\n",
      "  3400000         6.04992,         0.00066\n",
      "  3500000         6.20544,         0.00028\n",
      "  3600000         5.92339,         0.00037\n",
      "  3700000         6.62662,         0.00047\n",
      "  3800000         7.45139,         0.00059\n",
      "  3900000         7.69926,         0.00059\n",
      "  4000000         8.15683,         0.00028\n",
      "  4100000         7.80991,         0.00028\n",
      "  4200000         7.75775,         0.00034\n",
      "  4300000         8.38935,         0.00046\n",
      "  4400000         8.16383,         0.00039\n",
      "  4500000         8.40178,         0.00073\n",
      "  4600000         9.21489,         0.00046\n",
      "  4700000         9.22876,         0.00080\n",
      "  4800000         9.74908,         0.00049\n",
      "  4900000         9.37956,         0.00047\n",
      "  5000000         9.88500,         0.00022\n",
      "  5100000        10.25130,         0.00045\n",
      "  5200000         9.65995,         0.00066\n",
      "  5300000         9.76710,         0.00039\n",
      "  5400000        10.79468,         0.00045\n",
      "  5500000        10.79056,         0.00041\n",
      "  5600000         9.98390,         0.00055\n",
      "  5700000        10.67102,         0.00058\n",
      "  5800000        11.18656,         0.00071\n",
      "  5900000        11.29707,         0.00028\n",
      "  6000000        10.88536,         0.00080\n",
      "  6100000        11.96982,         0.00035\n",
      "  6200000        11.88190,         0.00038\n",
      "  6300000        12.36227,         0.00045\n",
      "  6400000        11.18535,         0.00022\n",
      "  6500000        12.79012,         0.00038\n",
      "  6600000        12.31384,         0.00083\n",
      "  6700000        13.36933,         0.00040\n",
      "  6800000        13.33303,         0.00082\n",
      "  6900000        13.67321,         0.00073\n",
      "  7000000        13.78385,         0.00045\n",
      "  7100000        14.24661,         0.00081\n",
      "  7200000        14.63688,         0.00088\n",
      "  7300000        13.77859,         0.00039\n",
      "  7400000        14.26349,         0.00039\n",
      "  7500000        14.15157,         0.00043\n",
      "  7600000        14.91179,         0.00071\n",
      "  7700000        15.06923,         0.00041\n",
      "  7800000        14.96729,         0.00081\n",
      "  7900000        15.23740,         0.00080\n",
      "  8000000        15.41745,         0.00058\n",
      "  8100000        15.81008,         0.00080\n",
      "  8200000        16.71953,         0.00044\n",
      "  8300000        16.12722,         0.00084\n",
      "  8400000        15.66391,         0.00081\n",
      "  8500000        15.91894,         0.00059\n",
      "  8600000        16.45354,         0.00080\n",
      "  8700000        17.15488,         0.00060\n",
      "  8800000        17.28684,         0.00028\n",
      "  8900000        16.99138,         0.00061\n",
      "  9000000        17.60767,         0.00039\n",
      "  9100000        17.70835,         0.00038\n",
      "  9200000        16.15909,         0.00086\n",
      "  9300000        18.34776,         0.00029\n",
      "  9400000        16.76702,         0.00039\n",
      "  9500000        18.10082,         0.00041\n",
      "  9600000        17.95521,         0.00042\n",
      "  9700000        17.64950,         0.00029\n",
      "  9800000        17.49127,         0.00071\n",
      "  9900000        16.32001,         0.00080\n",
      " 10000000        17.19916,         0.00027\n"
     ]
    }
   ],
   "source": [
    "import timeit\n",
    "\n",
    "pz_rec = []\n",
    "pe_rec = []\n",
    "i_rec = []\n",
    "\n",
    "print(\"%9s %15s %15s\"%(\"size\",\"pop(0)\",\"pop()\"))\n",
    "for i in range(100000,10000001,100000):\n",
    "    x = list(range(i))\n",
    "    pz = timeit.timeit('x.pop(0)', setup=\"from __main__ import x\", number=1000)\n",
    "    x = list(range(i))\n",
    "    pe  = timeit.timeit('x.pop()', setup=\"from __main__ import x\", number=1000)\n",
    "    pz_rec.append(pz)\n",
    "    pe_rec.append(pe)\n",
    "    i_rec.append(i)\n",
    "    print(\"%9d %15.5f, %15.5f\" %(i, pz, pe))"
   ]
  },
  {
   "cell_type": "code",
   "execution_count": 3,
   "metadata": {
    "collapsed": false
   },
   "outputs": [
    {
     "data": {
      "image/png": "[encoded data removed]",
      "text/plain": [
       "<matplotlib.figure.Figure at 0x21a193fe358>"
      ]
     },
     "metadata": {},
     "output_type": "display_data"
    }
   ],
   "source": [
    "import numpy as np\n",
    "import matplotlib.pyplot as plt\n",
    "\n",
    "plt.scatter(np.asarray(i_rec), np.asarray(pz_rec))\n",
    "plt.scatter(np.asarray(i_rec), np.asarray(pe_rec))\n",
    "\n",
    "plt.legend([\"Pop zero\", \"Pop end\"])\n",
    "plt.xlabel(\"List size\")\n",
    "plt.ylabel(\"execution time (ms)\")\n",
    "\n",
    "plt.show()"
   ]
  },
  {
   "cell_type": "markdown",
   "metadata": {},
   "source": [
    "It is should be clear that the execution time for `pop(0)` and `pop()` are `O(n)` and `O(1)`, respectively.\n",
    "\n",
    "Some sources of error occurs due to other processes running on the computer which may slow down our code. That is why loop the experiments many times to make the measurement more statistically reliable.\n",
    "\n",
    "<!-- ## 2.7 Python Built-in Dictionary Operation Time Complexity -->\n",
    "## Python Built-in Dictionary Operation Time Complexity\n",
    "\n",
    "If you were the implementor of Python, how do you implement dictionary so that the `contain`, `get item` and `set item` operations all have *average case* time complexity of $O(1)$.?\n",
    "\n",
    "Currently, Python dictionaries are implemented as hash tables (Reference: *dictobject.h*). We will get into hash tables later in the course, but the following figure might give you some hints on how it works.\n",
    "\n",
    "<img src=\"figures/python_dictionary_hash.png\">\n",
    "\n",
    "<!-- https://stackoverflow.com/questions/327311/how-are-pythons-built-in-dictionaries-implemented  -->\n",
    "\n",
    "The *average case* time complexity of dictionary operations are as follows:\n",
    "\n",
    "Operation        |  Big-O Efficiency\n",
    "---------------- | -----------------\n",
    "`copy`           | $O(n)$\n",
    "`get item`       | $O(1)$\n",
    "`set item`       | $O(1)$\n",
    "`delete item`    | $O(1)$\n",
    "`contains (in)`  | $O(1)$\n",
    "`iteration`      | $O(n)$\n",
    "\n",
    "In the following experiment we compare the performance of the `contains` operation between lists and dictionaries."
   ]
  },
  {
   "cell_type": "code",
   "execution_count": 14,
   "metadata": {
    "collapsed": false
   },
   "outputs": [
    {
     "name": "stdout",
     "output_type": "stream",
     "text": [
      "     size            List      Dictionary\n",
      "    10000,          0.431,          0.005\n",
      "    20000,          0.723,          0.007\n",
      "    30000,          1.284,          0.016\n",
      "    40000,          1.088,          0.004\n",
      "    50000,          1.925,          0.003\n",
      "    60000,          2.189,          0.005\n",
      "    70000,          2.034,          0.005\n",
      "    80000,          2.620,          0.008\n",
      "    90000,          3.045,          0.004\n",
      "   100000,          3.238,          0.006\n",
      "   110000,          3.531,          0.006\n",
      "   120000,          4.084,          0.006\n",
      "   130000,          4.324,          0.007\n",
      "   140000,          4.716,          0.005\n",
      "   150000,          4.597,          0.005\n",
      "   160000,          5.071,          0.005\n",
      "   170000,          5.455,          0.005\n",
      "   180000,          5.964,          0.005\n",
      "   190000,          6.717,          0.009\n",
      "   200000,          6.940,          0.011\n",
      "   210000,          7.010,          0.005\n",
      "   220000,          7.603,          0.004\n",
      "   230000,          7.986,          0.005\n",
      "   240000,          8.843,          0.006\n",
      "   250000,          8.635,          0.005\n",
      "   260000,          9.470,          0.005\n",
      "   270000,          9.707,          0.006\n",
      "   280000,          9.274,          0.006\n",
      "   290000,          8.281,          0.006\n",
      "   300000,         10.374,          0.007\n",
      "   310000,         11.332,          0.005\n",
      "   320000,         11.661,          0.007\n",
      "   330000,          9.608,          0.004\n",
      "   340000,         11.450,          0.005\n",
      "   350000,         11.979,          0.005\n",
      "   360000,         12.592,          0.006\n",
      "   370000,         12.841,          0.007\n",
      "   380000,         12.606,          0.007\n",
      "   390000,         13.233,          0.007\n",
      "   400000,         12.618,          0.008\n",
      "   410000,         13.316,          0.007\n",
      "   420000,         10.603,          0.002\n",
      "   430000,          5.838,          0.006\n",
      "   440000,         14.954,          0.005\n",
      "   450000,         13.224,          0.004\n",
      "   460000,         13.665,          0.005\n",
      "   470000,         14.425,          0.005\n",
      "   480000,         14.369,          0.005\n",
      "   490000,         18.012,          0.004\n",
      "   500000,         14.408,          0.003\n",
      "   510000,         10.555,          0.005\n",
      "   520000,         17.893,          0.008\n",
      "   530000,         15.580,          0.004\n",
      "   540000,         17.663,          0.006\n",
      "   550000,         17.079,          0.005\n",
      "   560000,         17.640,          0.004\n",
      "   570000,         18.024,          0.006\n",
      "   580000,         18.581,          0.005\n",
      "   590000,         19.124,          0.005\n",
      "   600000,         18.105,          0.004\n",
      "   610000,         18.710,          0.003\n",
      "   620000,         18.369,          0.009\n",
      "   630000,         20.656,          0.005\n",
      "   640000,         20.584,          0.005\n",
      "   650000,         20.092,          0.005\n",
      "   660000,         19.313,          0.004\n",
      "   670000,         19.542,          0.003\n",
      "   680000,         20.447,          0.004\n",
      "   690000,         21.248,          0.008\n",
      "   700000,         20.805,          0.010\n",
      "   710000,         22.539,          0.005\n",
      "   720000,         22.230,          0.010\n",
      "   730000,         22.318,          0.006\n",
      "   740000,         22.117,          0.006\n",
      "   750000,         21.884,          0.005\n",
      "   760000,         23.086,          0.003\n",
      "   770000,         24.449,          0.006\n",
      "   780000,         25.360,          0.003\n",
      "   790000,         23.035,          0.005\n",
      "   800000,         21.969,          0.004\n",
      "   810000,         25.776,          0.002\n",
      "   820000,         24.251,          0.005\n",
      "   830000,         29.081,          0.005\n",
      "   840000,         27.047,          0.006\n",
      "   850000,         28.113,          0.007\n",
      "   860000,         30.279,          0.007\n",
      "   870000,         31.484,          0.007\n",
      "   880000,         30.352,          0.005\n",
      "   890000,         32.680,          0.006\n",
      "   900000,         31.923,          0.005\n",
      "   910000,         31.325,          0.004\n",
      "   920000,         31.332,          0.006\n",
      "   930000,         33.281,          0.003\n",
      "   940000,         33.753,          0.004\n",
      "   950000,         33.878,          0.010\n",
      "   960000,         27.548,          0.005\n",
      "   970000,         34.012,          0.007\n",
      "   980000,         36.993,          0.007\n",
      "   990000,         31.869,          0.002\n",
      "  1000000,         31.801,          0.006\n"
     ]
    }
   ],
   "source": [
    "import timeit\n",
    "import random\n",
    "\n",
    "list_time_rec = []\n",
    "dict_time_rec = []\n",
    "i_rec = []\n",
    "\n",
    "print(\"%9s %15s %15s\"%(\"size\",\"List\",\"Dictionary\"))\n",
    "for i in range(10000,1000001,10000):\n",
    "    x = list(range(i))\n",
    "    list_time = timeit.timeit(\"random.randrange(%d) in x\"%i, setup=\"from __main__ import random,x\", number=1000)\n",
    "    x = {j:None for j in range(i)}\n",
    "    dict_time = timeit.timeit(\"random.randrange(%d) in x\"%i, setup=\"from __main__ import random,x\", number=1000)\n",
    "    list_time_rec.append(list_time)\n",
    "    dict_time_rec.append(dict_time)\n",
    "    i_rec.append(i)\n",
    "    print(\"%9d,%15.3f,%15.3f\" % (i, list_time, dict_time))    "
   ]
  },
  {
   "cell_type": "code",
   "execution_count": 15,
   "metadata": {
    "collapsed": false
   },
   "outputs": [
    {
     "data": {
      "image/png": "[encoded data removed]",
      "text/plain": [
       "<matplotlib.figure.Figure at 0x21a19ccdd68>"
      ]
     },
     "metadata": {},
     "output_type": "display_data"
    }
   ],
   "source": [
    "import numpy as np\n",
    "import matplotlib.pyplot as plt\n",
    "\n",
    "plt.scatter(np.asarray(i_rec), np.asarray(list_time_rec))\n",
    "plt.scatter(np.asarray(i_rec), np.asarray(dict_time_rec))\n",
    "\n",
    "plt.legend([\"List time\", \"Dictionary time\"])\n",
    "plt.xlabel(\"Size\")\n",
    "plt.ylabel(\"execution time (ms)\")\n",
    "\n",
    "plt.show()"
   ]
  },
  {
   "cell_type": "markdown",
   "metadata": {},
   "source": [
    "It is should be clear that the execution time of `contain` operation for list and dictionary are `O(n)` and `O(1)`, respectively.\n",
    "\n",
    "Since Python is an evolving language, there are always changes going on behind the scenes. The latest information on the performance of Python data structures can be found on the Python website https://wiki.python.org/moin/TimeComplexity.\n",
    "\n",
    "## Master Theorem\n",
    "\n",
    "What is the order of magnitude of function $T(n)$ which satsifies\n",
    "$$T(n) = a T\\left(\\frac{n}{b}\\right) + f(n)$$\n",
    "Denote $c = \\log_b a$, then\n",
    "1. If $f(n) \\in O(n^{c-\\epsilon})$, where $\\epsilon > 0$, then $T(n) \\in \\Theta(n^c)$.\n",
    "2. If $f(n) \\in \\Theta \\left(n^c \\log^k n \\right)$, then $T(n) \\in \\Theta \\left(n^c \\log^{k+1} n \\right)$\n",
    "3. If $f(n) \\in \\Omega(n^{c+\\epsilon})$, where $\\epsilon > 0$. And if $a f(\\frac{n}{b}) \\leq \\gamma f(n)$ for some $\\gamma < 1$. Then $T(n) \\in \\Theta(f(n))$.\n",
    "\n",
    "Exercises:\n",
    "1. $T(n) = 8T(n/2) + 1000 n^2$\n",
    "2. $T(n) = 2T(n/2) + 10n$\n",
    "3. $T(n) = 2T(n/2) + n^2$"
   ]
  },
  {
   "cell_type": "markdown",
   "metadata": {},
   "source": [
    "<!---\n",
    "Exercise: Let $T(n)$, $f(n)$, $g(n)$ be non-negative functions.\n",
    "\n",
    "1. Prove that $T(n) \\in o(f(n))$ implies $T(n) \\in O(f(n))$.\n",
    "2. Prove that $T(n) \\in \\omega(f(n))$ implies $T(n) \\in \\Omega(f(n))$.\n",
    "3. Prove that $f(n) \\in O(g(n))$ if and only if $g(n) \\in \\Omega(f(n))$.\n",
    "4. Prove that $f(n) \\in \\Theta(g(n))$ if and only if $g(n) \\in \\Theta(f(n))$.\n",
    "5. Prove that $f(n) \\in o(g(n))$ if and only if $g(n) \\in \\omega(f(n))$.\n",
    "6. Does $T(n) \\in O(f(n))$ and $T(n) \\not\\in \\Theta(f(n))$ implies $T(n) \\in o(f(n))$? Please prove your statements.\n",
    "7. Does $T(n) \\in o(f(n))$ implies $T(n) \\in O(f(n))$ and $T(n) \\not\\in \\Theta(f(n))$? Please prove your statements.\n",
    "8. Make a slide to illustrate a Python built-in list operation. Give your reference (such as the library code).\n",
    "--->"
   ]
  },
  {
   "cell_type": "code",
   "execution_count": null,
   "metadata": {
    "collapsed": true
   },
   "outputs": [],
   "source": []
  }
 ],
 "metadata": {
  "kernelspec": {
   "display_name": "Python 3",
   "language": "python",
   "name": "python3"
  },
  "language_info": {
   "codemirror_mode": {
    "name": "ipython",
    "version": 3
   },
   "file_extension": ".py",
   "mimetype": "text/x-python",
   "name": "python",
   "nbconvert_exporter": "python",
   "pygments_lexer": "ipython3",
   "version": "3.6.0"
  }
 },
 "nbformat": 4,
 "nbformat_minor": 2
}
